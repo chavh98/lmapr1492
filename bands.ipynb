{
 "cells": [
  {
   "cell_type": "code",
   "execution_count": null,
   "metadata": {},
   "outputs": [],
   "source": [
    "from pymatgen.io.cif import CifParser\n",
    "parser = CifParser(\"HoCuO2_mp-754472_symmetrized.cif\")\n",
    "from pymatgen.electronic_structure import bandstructure\n",
    "from pymatgen.ext.matproj import MPRester\n",
    "with MPRester(\"LqPM0vGDumeSiU5h\") as m:\n",
    "    bandstructure = m.get_bandstructure_by_material_id(\"mp-754472\")    "
   ]
  },
  {
   "cell_type": "code",
   "execution_count": 14,
   "metadata": {},
   "outputs": [
    {
     "name": "stdout",
     "output_type": "stream",
     "text": [
      "La bande interdite à une énergie de 2.5410000000000004 eV.\n",
      "Est-elle directe ? False\n",
      "La transition dans la bande interdite est (0.500,0.121,-0.121)-\\Gamma\n"
     ]
    }
   ],
   "source": [
    "#Analyse de la bande interdite\n",
    "bandgap=bandstructure.get_band_gap()\n",
    "energy=bandgap['energy'] #énergie de la bande interdite\n",
    "direct=bandgap['direct'] #si elle est directe\n",
    "transition=bandgap['transition'] #la transition\n",
    "\n",
    "\n",
    "print(\"La bande interdite à une énergie de\", energy, \"eV.\")\n",
    "print(\"Est-elle directe ?\", direct)\n",
    "print(\"La transition dans la bande interdite est\", transition)"
   ]
  },
  {
   "cell_type": "markdown",
   "metadata": {},
   "source": [
    "La bande d'énergie interdite à une énergie supérieure à 2 eV, on peut donc dire que la matériau est isolant. \n",
    "\n",
    "De plus, elle est indirecte. En effet,le minimum de la bande de conduction inférieure n’est pas associé au même vecteur d’onde que le maximum de la bande de valence supérieure."
   ]
  },
  {
   "cell_type": "code",
   "execution_count": null,
   "metadata": {},
   "outputs": [],
   "source": []
  }
 ],
 "metadata": {
  "kernelspec": {
   "display_name": "Python 3",
   "language": "python",
   "name": "python3"
  },
  "language_info": {
   "codemirror_mode": {
    "name": "ipython",
    "version": 3
   },
   "file_extension": ".py",
   "mimetype": "text/x-python",
   "name": "python",
   "nbconvert_exporter": "python",
   "pygments_lexer": "ipython3",
   "version": "3.6.8"
  }
 },
 "nbformat": 4,
 "nbformat_minor": 2
}
