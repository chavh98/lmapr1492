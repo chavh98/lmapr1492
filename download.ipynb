{
 "cells": [
  {
   "cell_type": "markdown",
   "metadata": {},
   "source": [
    "# Physique des matériaux : $HoCuO_2$"
   ]
  },
  {
   "cell_type": "code",
   "execution_count": 3,
   "metadata": {},
   "outputs": [],
   "source": [
    "from pymatgen.io.cif import CifParser\n",
    "parser = CifParser(\"HoCuO2_mp-754472_symmetrized.cif\")\n",
    "from pymatgen.ext.matproj import MPRester\n",
    "with MPRester(\"LqPM0vGDumeSiU5h\") as m:\n",
    "\n",
    "    # Structure for material id\n",
    "    structure = m.get_structure_by_material_id(\"mp-754472\")\n",
    "\n",
    "    # Dos for material id\n",
    "    dos = m.get_dos_by_material_id(\"mp-754472\")\n",
    "\n",
    "    # Bandstructure for material id\n",
    "    bandstructure = m.get_bandstructure_by_material_id(\"mp-754472\")"
   ]
  },
  {
   "cell_type": "markdown",
   "metadata": {},
   "source": [
    "### Introduction "
   ]
  },
  {
   "cell_type": "markdown",
   "metadata": {},
   "source": [
    "Les différents dossiers repris dans ce répertoire (chavh98/lmapr1492) ont pour but d'étudier le matériau $HoCuO_2$. Plus précisément, sa structure cristalline, son diffractogramme et ses propriétés électroniques seront analysés sur base des données fournies via le site Material Projects (www.materialsproject.org). Les différents images qui illustrent les propos sont obtenues sur ce site également ou via Jmol Crystal Symmetry Explorer (https://chemapps.stolaf.edu/jmol/jsmol/jcse/explore.htm)."
   ]
  },
  {
   "cell_type": "code",
   "execution_count": null,
   "metadata": {},
   "outputs": [],
   "source": []
  }
 ],
 "metadata": {
  "kernelspec": {
   "display_name": "Python 3",
   "language": "python",
   "name": "python3"
  },
  "language_info": {
   "codemirror_mode": {
    "name": "ipython",
    "version": 3
   },
   "file_extension": ".py",
   "mimetype": "text/x-python",
   "name": "python",
   "nbconvert_exporter": "python",
   "pygments_lexer": "ipython3",
   "version": "3.6.8"
  }
 },
 "nbformat": 4,
 "nbformat_minor": 2
}
