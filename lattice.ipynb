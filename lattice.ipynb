{
 "cells": [
  {
   "cell_type": "code",
   "execution_count": 30,
   "metadata": {},
   "outputs": [
    {
     "name": "stdout",
     "output_type": "stream",
     "text": [
      "Vecteurs du réseau direct (a b c) : 6.076455179733168 6.076455179733168 6.076454964254208\n",
      "Vecteurs du réseau réciproque (a b c) : 0.3319804629297193 0.3319804629297193 0.33198049032301413\n",
      "Type de maille : rhombohedral\n",
      "Système cristallin : trigonal\n",
      "Groupe Ponctuel : -3m\n"
     ]
    }
   ],
   "source": [
    "from pymatgen.io.cif import CifParser\n",
    "parser = CifParser(\"HoCuO2_mp-754472_symmetrized.cif\")\n",
    "from pymatgen.ext.matproj import MPRester\n",
    "with MPRester(\"LqPM0vGDumeSiU5h\") as m:\n",
    "\n",
    "    # Structure for material id\n",
    "    structure = m.get_structure_by_material_id(\"mp-754472\")\n",
    "\n",
    "from pymatgen.symmetry.analyzer import SpacegroupAnalyzer\n",
    "from pymatgen.symmetry.analyzer import Lattice\n",
    "#new_s=SpacegroupAnalyzer(structure).get_primitive_standard_structure()\n",
    "\n",
    "#Vecteurs du réseau direct\n",
    "Vect_Dir_a = structure.lattice.a\n",
    "Vect_Dir_b = structure.lattice.b\n",
    "Vect_Dir_c = structure.lattice.c\n",
    "#Vecteurs du réseau réciproque\n",
    "Vect_Reci_a = structure.lattice.reciprocal_lattice_crystallographic.a\n",
    "Vect_Reci_b = structure.lattice.reciprocal_lattice_crystallographic.b\n",
    "Vect_Reci_c = structure.lattice.reciprocal_lattice_crystallographic.c\n",
    "#Type de maille\n",
    "Type_Maille = SpacegroupAnalyzer(structure).get_lattice_type()\n",
    "#Système Cristallin\n",
    "Syst_Crist = SpacegroupAnalyzer(structure).get_crystal_system()\n",
    "#groupe ponctuel\n",
    "Point_Group = SpacegroupAnalyzer(structure).get_point_group_symbol()\n",
    "\n",
    "\n",
    "print(\"Vecteurs du réseau direct (a b c) :\", Vect_Dir_a, Vect_Dir_b, Vect_Dir_c)\n",
    "print(\"Vecteurs du réseau réciproque (a b c) :\", Vect_Reci_a, Vect_Reci_b, Vect_Reci_c)\n",
    "print(\"Type de maille :\", Type_Maille)\n",
    "print(\"Système cristallin :\", Syst_Crist)\n",
    "print(\"Groupe Ponctuel :\", Point_Group)\n"
   ]
  },
  {
   "cell_type": "code",
   "execution_count": null,
   "metadata": {},
   "outputs": [],
   "source": []
  },
  {
   "cell_type": "code",
   "execution_count": null,
   "metadata": {},
   "outputs": [],
   "source": []
  },
  {
   "cell_type": "code",
   "execution_count": null,
   "metadata": {},
   "outputs": [],
   "source": []
  }
 ],
 "metadata": {
  "kernelspec": {
   "display_name": "Python 3",
   "language": "python",
   "name": "python3"
  },
  "language_info": {
   "codemirror_mode": {
    "name": "ipython",
    "version": 3
   },
   "file_extension": ".py",
   "mimetype": "text/x-python",
   "name": "python",
   "nbconvert_exporter": "python",
   "pygments_lexer": "ipython3",
   "version": "3.6.8"
  }
 },
 "nbformat": 4,
 "nbformat_minor": 2
}
