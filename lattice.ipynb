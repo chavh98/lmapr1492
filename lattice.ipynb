{
 "cells": [
  {
   "cell_type": "markdown",
   "metadata": {},
   "source": [
    "# Réseau cristallin"
   ]
  },
  {
   "cell_type": "code",
   "execution_count": 12,
   "metadata": {},
   "outputs": [
    {
     "name": "stdout",
     "output_type": "stream",
     "text": [
      "Vecteurs du réseau direct : \n",
      " [[-1.76650079 -3.05966912  0.        ]\n",
      " [-3.53300158  0.          0.        ]\n",
      " [-1.76650079 -1.01988971 -5.72386292]]\n",
      "\n",
      "\n",
      "Vecteurs du réseau réciproque : \n",
      " [[-0.         -0.32683273  0.05823573]\n",
      " [-0.28304544  0.16341636  0.05823573]\n",
      " [-0.         -0.         -0.17470719]]\n",
      "\n",
      "\n",
      "Type de maille : rhombohedral\n",
      "\n",
      "\n",
      "Système cristallin : trigonal\n",
      "\n",
      "\n",
      "Groupe Ponctuel : -3m\n"
     ]
    }
   ],
   "source": [
    "from pymatgen.io.cif import CifParser\n",
    "parser = CifParser(\"HoCuO2_mp-754472_symmetrized.cif\")\n",
    "from pymatgen.ext.matproj import MPRester\n",
    "with MPRester(\"LqPM0vGDumeSiU5h\") as m:\n",
    "\n",
    "    # Structure for material id\n",
    "    structure = m.get_structure_by_material_id(\"mp-754472\")\n",
    "\n",
    "from pymatgen.symmetry.analyzer import SpacegroupAnalyzer\n",
    "from pymatgen.symmetry.analyzer import Lattice\n",
    "\n",
    "#Vecteurs du réseau direct\n",
    "Reseau_Dir = SpacegroupAnalyzer(SpacegroupAnalyzer(structure).get_primitive_standard_structure()).find_primitive().lattice.matrix\n",
    "\n",
    "#Vecteurs du réseau réciproque\n",
    "Reseau_Reci = SpacegroupAnalyzer(SpacegroupAnalyzer(structure).get_primitive_standard_structure()).find_primitive().lattice.reciprocal_lattice_crystallographic.matrix\n",
    "\n",
    "#Type de maille\n",
    "Type_Maille = SpacegroupAnalyzer(structure).get_lattice_type()\n",
    "\n",
    "#Système Cristallin\n",
    "Syst_Crist = SpacegroupAnalyzer(structure).get_crystal_system()\n",
    "\n",
    "#Groupe ponctuel\n",
    "Point_Group = SpacegroupAnalyzer(structure).get_point_group_symbol()\n",
    "\n",
    "\n",
    "print(\"Vecteurs du réseau direct :\", '\\n',Reseau_Dir)\n",
    "print('\\n')\n",
    "print(\"Vecteurs du réseau réciproque :\", '\\n',Reseau_Reci)\n",
    "print('\\n')\n",
    "print(\"Type de maille :\", Type_Maille)\n",
    "print('\\n')\n",
    "print(\"Système cristallin :\", Syst_Crist)\n",
    "print('\\n')\n",
    "print(\"Groupe Ponctuel :\", Point_Group)\n"
   ]
  },
  {
   "cell_type": "markdown",
   "metadata": {},
   "source": [
    "Le $HoCuO_2$ possède un système cristallin trigonal et un type de maille rhombohedral. Son groupe ponctuel est $\\bar{3}m$ et donc son groupe spatial est $R\\bar{3}m$. "
   ]
  },
  {
   "cell_type": "code",
   "execution_count": null,
   "metadata": {},
   "outputs": [],
   "source": []
  },
  {
   "cell_type": "code",
   "execution_count": null,
   "metadata": {},
   "outputs": [],
   "source": []
  }
 ],
 "metadata": {
  "kernelspec": {
   "display_name": "Python 3",
   "language": "python",
   "name": "python3"
  },
  "language_info": {
   "codemirror_mode": {
    "name": "ipython",
    "version": 3
   },
   "file_extension": ".py",
   "mimetype": "text/x-python",
   "name": "python",
   "nbconvert_exporter": "python",
   "pygments_lexer": "ipython3",
   "version": "3.6.8"
  }
 },
 "nbformat": 4,
 "nbformat_minor": 2
}
